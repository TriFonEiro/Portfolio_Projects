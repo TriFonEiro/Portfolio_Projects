{
 "cells": [
  {
   "cell_type": "code",
   "execution_count": 2,
   "id": "5a54d105",
   "metadata": {},
   "outputs": [
    {
     "name": "stdout",
     "output_type": "stream",
     "text": [
      "Created folder: C:/Users/trifo/Downloads/pdf files\n"
     ]
    }
   ],
   "source": [
    "import os\n",
    "import shutil\n",
    "\n",
    "path = r\"C:/Users/trifo/Downloads/\"\n",
    "file_name = os.listdir(path)\n",
    "folder_name = [\"image files\", \"doc files\", \"web files\", \"pdf files\"]\n",
    "\n",
    "# Create folders\n",
    "for folder in folder_name:\n",
    "    folder_path = os.path.join(path, folder)\n",
    "    if not os.path.exists(folder_path):\n",
    "        os.makedirs(folder_path)\n",
    "        print(\"Created folder:\", folder_path)\n",
    "\n",
    "# Move PNG files to image folder\n",
    "for file in file_name:\n",
    "    if file.endswith(\".png\") and not os.path.exists(os.path.join(path, \"image files\", file)):\n",
    "        shutil.move(os.path.join(path, file), os.path.join(path, \"image files\", file))\n",
    "        print(\"Moved file:\", file)"
   ]
  },
  {
   "cell_type": "code",
   "execution_count": 4,
   "id": "63aa38fe",
   "metadata": {},
   "outputs": [
    {
     "name": "stdout",
     "output_type": "stream",
     "text": [
      "Created folder: C:/Users/trifo/Downloads/executable files\n",
      "Created folder: C:/Users/trifo/Downloads/spreadsheet files\n",
      "Created folder: C:/Users/trifo/Downloads/csv files\n",
      "Created folder: C:/Users/trifo/Downloads/ods files\n",
      "Moved file: 1681707732882.jfif to C:/Users/trifo/Downloads/image files\n",
      "Moved file: Anaconda3-2023.03-1-Windows-x86_64.exe to C:/Users/trifo/Downloads/executable files\n",
      "Moved file: Apocolypse Food Prep - Power Query Editor Tutorial.xlsx to C:/Users/trifo/Downloads/spreadsheet files\n",
      "Moved file: Apocolypse Food Prep - Relationship Tutorial.xlsx to C:/Users/trifo/Downloads/spreadsheet files\n",
      "Moved file: Apocolypse Food Prep - Visualizations Tutorial.xlsx to C:/Users/trifo/Downloads/spreadsheet files\n",
      "Moved file: Data Cleaning Excel Tutorial.xlsx to C:/Users/trifo/Downloads/spreadsheet files\n",
      "Moved file: Excel Project Dataset.xlsx to C:/Users/trifo/Downloads/spreadsheet files\n",
      "Moved file: Formula Excel Template.xlsx to C:/Users/trifo/Downloads/spreadsheet files\n",
      "Moved file: Libre_Office_pivot_table_tutorial2023.ods to C:/Users/trifo/Downloads/ods files\n",
      "Moved file: Nashville Housing Data for Data Cleaning.xlsx to C:/Users/trifo/Downloads/spreadsheet files\n",
      "Moved file: owid-covid-data.csv to C:/Users/trifo/Downloads/csv files\n",
      "Moved file: Sales2023.csv to C:/Users/trifo/Downloads/csv files\n",
      "Moved file: WhatsApp Image 2022-04-13 at 08.34.04.jpeg to C:/Users/trifo/Downloads/image files\n",
      "Moved file: XLOOKUP Excel Tutorial File.xlsx to C:/Users/trifo/Downloads/spreadsheet files\n"
     ]
    }
   ],
   "source": [
    "import os\n",
    "import shutil\n",
    "\n",
    "path = r\"C:/Users/trifo/Downloads/\"\n",
    "folder_name = [\"image files\", \"doc files\", \"web files\", \"pdf files\", \"executable files\", \"spreadsheet files\", \"csv files\", \"ods files\"]\n",
    "\n",
    "# Create folders\n",
    "for folder in folder_name:\n",
    "    folder_path = os.path.join(path, folder)\n",
    "    if not os.path.exists(folder_path):\n",
    "        os.makedirs(folder_path)\n",
    "        print(\"Created folder:\", folder_path)\n",
    "\n",
    "# Move files to folders\n",
    "for file in os.listdir(path):\n",
    "    file_path = os.path.join(path, file)\n",
    "    if os.path.isfile(file_path):\n",
    "        file_extension = os.path.splitext(file)[1][1:].lower()\n",
    "\n",
    "        if file_extension in [\"jpg\", \"png\", \"gif\", \"jfif\", \"jpeg\"]:\n",
    "            destination_folder = folder_name[0]\n",
    "        elif file_extension in [\"doc\", \"docx\", \"txt\"]:\n",
    "            destination_folder = folder_name[1]\n",
    "        elif file_extension in [\"html\", \"css\", \"js\"]:\n",
    "            destination_folder = folder_name[2]\n",
    "        elif file_extension == \"pdf\":\n",
    "            destination_folder = folder_name[3]\n",
    "        elif file_extension == \"exe\":\n",
    "            destination_folder = folder_name[4]\n",
    "        elif file_extension in [\"xlsx\"]:\n",
    "            destination_folder = folder_name[5]\n",
    "        elif file_extension == \"csv\":\n",
    "            destination_folder = folder_name[6]\n",
    "        elif file_extension == \"ods\":\n",
    "            destination_folder = folder_name[7]\n",
    "        else:\n",
    "            continue\n",
    "\n",
    "        destination_path = os.path.join(path, destination_folder)\n",
    "        shutil.move(file_path, os.path.join(destination_path, file))\n",
    "        print(\"Moved file:\", file, \"to\", destination_path)"
   ]
  },
  {
   "cell_type": "code",
   "execution_count": null,
   "id": "413f0de2",
   "metadata": {},
   "outputs": [],
   "source": []
  }
 ],
 "metadata": {
  "kernelspec": {
   "display_name": "Python 3 (ipykernel)",
   "language": "python",
   "name": "python3"
  },
  "language_info": {
   "codemirror_mode": {
    "name": "ipython",
    "version": 3
   },
   "file_extension": ".py",
   "mimetype": "text/x-python",
   "name": "python",
   "nbconvert_exporter": "python",
   "pygments_lexer": "ipython3",
   "version": "3.9.12"
  }
 },
 "nbformat": 4,
 "nbformat_minor": 5
}
