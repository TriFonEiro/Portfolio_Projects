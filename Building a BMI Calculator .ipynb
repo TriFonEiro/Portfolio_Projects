{
 "cells": [
  {
   "cell_type": "code",
   "execution_count": null,
   "id": "84e4f0b6",
   "metadata": {},
   "outputs": [],
   "source": [
    "# BMI Calculator"
   ]
  },
  {
   "cell_type": "code",
   "execution_count": 5,
   "id": "d94905d3",
   "metadata": {},
   "outputs": [
    {
     "name": "stdout",
     "output_type": "stream",
     "text": [
      "Enter you name: Trifon\n",
      "Enter your weight in kilos: 72.2\n",
      "Enter your height in meters: 1.72\n",
      "24.405083829096814\n",
      "Trifon, you are normal weight.\n"
     ]
    }
   ],
   "source": [
    "name = input(\"Enter you name: \")\n",
    "\n",
    "weight = float(input(\"Enter your weight in kilos: \"))\n",
    "\n",
    "height = float(input(\"Enter your height in meters: \"))\n",
    "\n",
    "BMI = (weight) / (height * height)\n",
    "\n",
    "print(BMI)\n",
    "\n",
    "if BMI>0:\n",
    "    if BMI<18.5:\n",
    "        print(name +\", you are underwight.\")\n",
    "    elif BMI<=24.9:\n",
    "        print(name +\", you are normal weight.\")\n",
    "    elif BMI<29.9:\n",
    "        print(name +\", you are overweight. You need to exercise more and stop sitting and writing so many python tutorials.\")\n",
    "    elif BMI<34.9:\n",
    "        print(name +\", you are obese.\")\n",
    "    elif BMI<39.9:\n",
    "        print(name +\", you are severely obese.\")\n",
    "    else:\n",
    "        print(name +\", you are morbidly obese.\")\n",
    "else:\n",
    "    print(\"Enter valid input\")"
   ]
  },
  {
   "cell_type": "code",
   "execution_count": null,
   "id": "ba6b48d4",
   "metadata": {},
   "outputs": [],
   "source": [
    "#BMI = (weight in kg) / (height in m x height in m)\n"
   ]
  },
  {
   "cell_type": "code",
   "execution_count": 6,
   "id": "56e727bd",
   "metadata": {},
   "outputs": [
    {
     "name": "stdout",
     "output_type": "stream",
     "text": [
      "72.2\n"
     ]
    }
   ],
   "source": [
    "print(weight)\n"
   ]
  },
  {
   "cell_type": "code",
   "execution_count": null,
   "id": "7fb9c473",
   "metadata": {},
   "outputs": [],
   "source": [
    "Under 18.5\tUnderweight\tMinimal\n",
    "8.5 - 24.9\tNormal Weight\tMinimal\n",
    "25 - 29.9\tOverweight\tIncreased\n",
    "30 - 34.9\tObese\tHigh\n",
    "35 - 39.9\tSeverely Obese\tVery High\n",
    "40 and over\tMorbidly Obese\tExtremely High\n",
    "\n"
   ]
  },
  {
   "cell_type": "code",
   "execution_count": 15,
   "id": "406ca24f",
   "metadata": {},
   "outputs": [
    {
     "name": "stdout",
     "output_type": "stream",
     "text": [
      "Trifon, you are normal weight.\n"
     ]
    }
   ],
   "source": [
    "if BMI>0:\n",
    "    if BMI<18.5:\n",
    "        print(name +\", you are underwight.\")\n",
    "    elif BMI<=24.9:\n",
    "        print(name +\", you are normal weight.\")\n",
    "    elif BMI<29.9:\n",
    "        print(name +\", you are overweight.\")\n",
    "    elif BMI<34.9:\n",
    "        print(name +\", you are obese.\")\n",
    "    elif BMI<39.9:\n",
    "        print(name +\", you are severely obese.\")\n",
    "    else:\n",
    "        print(name +\", you are morbidly obese.\")\n",
    "else:\n",
    "    print(\"Enter valid input\")"
   ]
  },
  {
   "cell_type": "code",
   "execution_count": null,
   "id": "ffc5803b",
   "metadata": {},
   "outputs": [],
   "source": []
  },
  {
   "cell_type": "code",
   "execution_count": null,
   "id": "29449afb",
   "metadata": {},
   "outputs": [],
   "source": []
  }
 ],
 "metadata": {
  "kernelspec": {
   "display_name": "Python 3 (ipykernel)",
   "language": "python",
   "name": "python3"
  },
  "language_info": {
   "codemirror_mode": {
    "name": "ipython",
    "version": 3
   },
   "file_extension": ".py",
   "mimetype": "text/x-python",
   "name": "python",
   "nbconvert_exporter": "python",
   "pygments_lexer": "ipython3",
   "version": "3.9.12"
  }
 },
 "nbformat": 4,
 "nbformat_minor": 5
}
